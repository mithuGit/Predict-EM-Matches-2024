{
 "cells": [
  {
   "cell_type": "code",
   "execution_count": null,
   "metadata": {},
   "outputs": [],
   "source": [
    "import requests\n",
    "from bs4 import BeautifulSoup\n",
    "import pandas as pd\n",
    "\n",
    "standing_url = \"https://fbref.com/en/comps/676/history/UEFA-Euro-Seasons\"\n",
    "\n",
    "data = requests.get(standing_url)\n",
    "\n",
    "soup = BeautifulSoup(data.text)\n",
    "\n",
    "standing_table = soup.select(\"table.stats_table\")[0]\n",
    "\n",
    "standing_table"
   ]
  },
  {
   "cell_type": "code",
   "execution_count": null,
   "metadata": {},
   "outputs": [],
   "source": [
    "links = standing_table.find_all('a')\n",
    "links = [l.get(\"href\") for l in links]\n",
    "links = [l for l in links if \"/comps/\" in l]\n",
    "links"
   ]
  },
  {
   "cell_type": "code",
   "execution_count": null,
   "metadata": {},
   "outputs": [],
   "source": [
    "# deletes duplicate\n",
    "new_links = []\n",
    "for l in links:\n",
    "    if l not in new_links:\n",
    "        new_links.append(l)\n",
    "new_links"
   ]
  },
  {
   "cell_type": "code",
   "execution_count": null,
   "metadata": {},
   "outputs": [],
   "source": [
    "# delete the 2024 EM Stats, because we want to predict 2024\n",
    "new_links.remove(\"/en/comps/676/UEFA-Euro-Stats\")\n",
    "new_links"
   ]
  },
  {
   "cell_type": "code",
   "execution_count": null,
   "metadata": {},
   "outputs": [],
   "source": [
    "em_urls = [f\"https://fbref.com{l}\" for l in new_links]\n",
    "em_urls"
   ]
  },
  {
   "cell_type": "code",
   "execution_count": null,
   "metadata": {},
   "outputs": [],
   "source": [
    "# later with for loop\n",
    "em_url = em_urls[1]\n",
    "\n",
    "data = requests.get(em_url)\n",
    "\n",
    "matches = pd.read_html(data.text, match=\"League Table Table\")"
   ]
  },
  {
   "cell_type": "code",
   "execution_count": null,
   "metadata": {},
   "outputs": [],
   "source": []
  }
 ],
 "metadata": {
  "kernelspec": {
   "display_name": "cer_programming",
   "language": "python",
   "name": "cer_programming"
  },
  "language_info": {
   "codemirror_mode": {
    "name": "ipython",
    "version": 3
   },
   "file_extension": ".py",
   "mimetype": "text/x-python",
   "name": "python",
   "nbconvert_exporter": "python",
   "pygments_lexer": "ipython3",
   "version": "3.10.13"
  }
 },
 "nbformat": 4,
 "nbformat_minor": 2
}
